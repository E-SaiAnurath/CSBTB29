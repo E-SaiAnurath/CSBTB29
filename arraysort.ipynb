{
  "nbformat": 4,
  "nbformat_minor": 0,
  "metadata": {
    "colab": {
      "provenance": [],
      "authorship_tag": "ABX9TyM1rbHjTBGHw1lsz2qRAvN7",
      "include_colab_link": true
    },
    "kernelspec": {
      "name": "python3",
      "display_name": "Python 3"
    },
    "language_info": {
      "name": "python"
    }
  },
  "cells": [
    {
      "cell_type": "markdown",
      "metadata": {
        "id": "view-in-github",
        "colab_type": "text"
      },
      "source": [
        "<a href=\"https://colab.research.google.com/github/e-anurath/CSBTB29/blob/main/arraysort.ipynb\" target=\"_parent\"><img src=\"https://colab.research.google.com/assets/colab-badge.svg\" alt=\"Open In Colab\"/></a>"
      ]
    },
    {
      "cell_type": "markdown",
      "source": [
        "Example 1"
      ],
      "metadata": {
        "id": "VNx_oFy8x6IQ"
      }
    },
    {
      "cell_type": "code",
      "execution_count": null,
      "metadata": {
        "colab": {
          "base_uri": "https://localhost:8080/"
        },
        "id": "Wg160fuotJjC",
        "outputId": "9696ad25-6aa5-42bc-d8f6-b6418e408383"
      },
      "outputs": [
        {
          "output_type": "stream",
          "name": "stdout",
          "text": [
            "[4 5 6 2]\n"
          ]
        }
      ],
      "source": [
        "import numpy as np\n",
        "arr = np.array([4,5,6,2])\n",
        "print(np.sort(arr))"
      ]
    },
    {
      "cell_type": "markdown",
      "source": [
        "Example 2"
      ],
      "metadata": {
        "id": "mER6HofHv2xp"
      }
    },
    {
      "cell_type": "code",
      "source": [
        "\n",
        "import pandas as pd\n",
        "\n",
        "# Creating the Series\n",
        "sr = pd.Series([150, 50, 30, 20, 40, 100])\n",
        "\n",
        "# Create the Index\n",
        "drink = ['Coca Cola', 'Sprite', 'Coke', 'Fanta', 'Dew', 'ThumbsUp']\n",
        "\n",
        "# set the index\n",
        "sr.index = drink\n",
        "\n",
        "# Print the series\n",
        "print(sr)\n"
      ],
      "metadata": {
        "colab": {
          "base_uri": "https://localhost:8080/"
        },
        "id": "i6_L5Ht8v1tO",
        "outputId": "26497ae0-3154-47fd-c7e9-5aaa3e3b7fb5"
      },
      "execution_count": null,
      "outputs": [
        {
          "output_type": "stream",
          "name": "stdout",
          "text": [
            "Coca Cola    150\n",
            "Sprite        50\n",
            "Coke          30\n",
            "Fanta         20\n",
            "Dew           40\n",
            "ThumbsUp     100\n",
            "dtype: int64\n"
          ]
        }
      ]
    },
    {
      "cell_type": "markdown",
      "source": [
        "Example 3\n"
      ],
      "metadata": {
        "id": "WHO6TkErx_vK"
      }
    },
    {
      "cell_type": "code",
      "source": [
        "\n"
      ],
      "metadata": {
        "id": "vOy8ljK-yBtV"
      },
      "execution_count": null,
      "outputs": []
    }
  ]
}