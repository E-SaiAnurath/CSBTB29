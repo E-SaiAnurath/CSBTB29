{
  "nbformat": 4,
  "nbformat_minor": 0,
  "metadata": {
    "colab": {
      "provenance": [],
      "authorship_tag": "ABX9TyMwOKycSK09vsLWs9aPKKNZ",
      "include_colab_link": true
    },
    "kernelspec": {
      "name": "python3",
      "display_name": "Python 3"
    },
    "language_info": {
      "name": "python"
    }
  },
  "cells": [
    {
      "cell_type": "markdown",
      "metadata": {
        "id": "view-in-github",
        "colab_type": "text"
      },
      "source": [
        "<a href=\"https://colab.research.google.com/github/e-anurath/CSBTB29/blob/main/arraysort.ipynb\" target=\"_parent\"><img src=\"https://colab.research.google.com/assets/colab-badge.svg\" alt=\"Open In Colab\"/></a>"
      ]
    },
    {
      "cell_type": "markdown",
      "source": [
        "Example 1"
      ],
      "metadata": {
        "id": "VNx_oFy8x6IQ"
      }
    },
    {
      "cell_type": "code",
      "execution_count": null,
      "metadata": {
        "colab": {
          "base_uri": "https://localhost:8080/"
        },
        "id": "Wg160fuotJjC",
        "outputId": "9696ad25-6aa5-42bc-d8f6-b6418e408383"
      },
      "outputs": [
        {
          "output_type": "stream",
          "name": "stdout",
          "text": [
            "[4 5 6 2]\n"
          ]
        }
      ],
      "source": [
        "import numpy as np\n",
        "arr = np.array([4,5,6,2])\n",
        "print(np.sort(arr))"
      ]
    },
    {
      "cell_type": "markdown",
      "source": [
        "Example 2"
      ],
      "metadata": {
        "id": "mER6HofHv2xp"
      }
    },
    {
      "cell_type": "code",
      "source": [
        "\n",
        "import pandas as pd\n",
        "\n",
        "# Creating the Series\n",
        "sr = pd.Series([150, 50, 30, 20, 40, 100])\n",
        "\n",
        "# Create the Index\n",
        "items = ['Rice', 'Suger', 'Salt', 'milk Packet', 'curd', 'ThumbsUp']\n",
        "\n",
        "# set the index\n",
        "sr.index = items\n",
        "\n",
        "# Print the series\n",
        "print(sr)\n"
      ],
      "metadata": {
        "colab": {
          "base_uri": "https://localhost:8080/"
        },
        "id": "i6_L5Ht8v1tO",
        "outputId": "ae5eea5f-46b0-4cbf-a055-27f4529fd8b3"
      },
      "execution_count": 6,
      "outputs": [
        {
          "output_type": "stream",
          "name": "stdout",
          "text": [
            "Rice           150\n",
            "Suger           50\n",
            "Salt            30\n",
            "milk Packet     20\n",
            "curd            40\n",
            "ThumbsUp       100\n",
            "dtype: int64\n"
          ]
        }
      ]
    },
    {
      "cell_type": "markdown",
      "source": [
        "Example 3\n"
      ],
      "metadata": {
        "id": "WHO6TkErx_vK"
      }
    },
    {
      "cell_type": "code",
      "source": [
        "# importing packages\n",
        "import pandas\n",
        "import numpy\n",
        "\n",
        "# create Pandas array with dtype from numpy\n",
        "pd_arr = pandas.array(data=['1', '2', '3', '4', '5','6'],\n",
        "\t\t\t\t\tdtype=numpy.int8)\n",
        "\n",
        "# print the formed array\n",
        "print(pd_arr)\n"
      ],
      "metadata": {
        "id": "vOy8ljK-yBtV",
        "colab": {
          "base_uri": "https://localhost:8080/"
        },
        "outputId": "5d48f34b-6223-4bb8-9dae-febcdb02fbcf"
      },
      "execution_count": 7,
      "outputs": [
        {
          "output_type": "stream",
          "name": "stdout",
          "text": [
            "<NumpyExtensionArray>\n",
            "[1, 2, 3, 4, 5, 6]\n",
            "Length: 6, dtype: int8\n"
          ]
        }
      ]
    },
    {
      "cell_type": "markdown",
      "source": [
        "Example 4"
      ],
      "metadata": {
        "id": "PaYVMJSC6ovT"
      }
    },
    {
      "cell_type": "code",
      "source": [
        "import numpy as np\n",
        "import pandas as pd\n",
        "list_2D= [[1, 0 ,1], [0, 1, 0] , [0 , 0 , 1]]\n",
        "array = np.array(list_2D)\n",
        "print(array)\n"
      ],
      "metadata": {
        "colab": {
          "base_uri": "https://localhost:8080/"
        },
        "id": "A6pAMmAm6qok",
        "outputId": "b02759e6-0bab-431a-a6fe-c12c1c78f5b3"
      },
      "execution_count": 10,
      "outputs": [
        {
          "output_type": "stream",
          "name": "stdout",
          "text": [
            "[[1 0 1]\n",
            " [0 1 0]\n",
            " [0 0 1]]\n"
          ]
        }
      ]
    }
  ]
}