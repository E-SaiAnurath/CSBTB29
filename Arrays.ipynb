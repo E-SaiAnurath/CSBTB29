{
  "nbformat": 4,
  "nbformat_minor": 0,
  "metadata": {
    "colab": {
      "provenance": [],
      "authorship_tag": "ABX9TyOMPCM0ilG7NgTlfheTQIuC",
      "include_colab_link": true
    },
    "kernelspec": {
      "name": "python3",
      "display_name": "Python 3"
    },
    "language_info": {
      "name": "python"
    }
  },
  "cells": [
    {
      "cell_type": "markdown",
      "metadata": {
        "id": "view-in-github",
        "colab_type": "text"
      },
      "source": [
        "<a href=\"https://colab.research.google.com/github/E-SaiAnurath/CSBTB29/blob/main/Arrays.ipynb\" target=\"_parent\"><img src=\"https://colab.research.google.com/assets/colab-badge.svg\" alt=\"Open In Colab\"/></a>"
      ]
    },
    {
      "cell_type": "markdown",
      "source": [
        "Implement Basic Data Structures using Numpy, Pandas\n",
        "1. Lists\n",
        "2. Arrays\n",
        "3. Identify their type using type()\n",
        "4. Perform mathematical operations on these datasets created - multiplication, division,\n",
        "5. Combine text with Numpy fuction to generate a textual output - ”Addition of Two:\n",
        "array1 +array 2\n",
        "6. Implement np.sin(), log(), log2(), np.exp())\n"
      ],
      "metadata": {
        "id": "L1FxzCSM2Gp_"
      }
    },
    {
      "cell_type": "code",
      "execution_count": null,
      "metadata": {
        "id": "nHPKEL_j2ESY"
      },
      "outputs": [],
      "source": [
        "import numpy as np"
      ]
    },
    {
      "cell_type": "code",
      "source": [
        "#1D Array\n",
        "Array_1=np.array([8,9,7,5,6,6])\n",
        "print(Array_1)\n",
        "print(type(Array_1))\n",
        "print(\"Sum of the given 1D array:\",np.sum(Array_1))\n",
        "print(\"Mean of the 1D array:\",np.mean(Array_1))"
      ],
      "metadata": {
        "colab": {
          "base_uri": "https://localhost:8080/"
        },
        "id": "KOpI2SyF6ORM",
        "outputId": "16ba2775-333f-4e1e-925e-67f8b9217ad5"
      },
      "execution_count": null,
      "outputs": [
        {
          "output_type": "stream",
          "name": "stdout",
          "text": [
            "[8 9 7 5 6 6]\n",
            "<class 'numpy.ndarray'>\n",
            "Sum of the given 1D array: 41\n",
            "Mean of the 1D array: 6.833333333333333\n"
          ]
        }
      ]
    },
    {
      "cell_type": "code",
      "source": [
        "#2D array\n",
        "Array_2 = np.array([[1, 2, 3], [4, 5, 6]])\n",
        "print(\"2D NumPy Array:\\n\", Array_2)\n",
        "print(\"Element at position (1, 2):\", Array_2[1, 2])\n",
        "print(\"Sum of all elements:\", np.sum(Array_2))\n",
        "print(type(Array_2))"
      ],
      "metadata": {
        "colab": {
          "base_uri": "https://localhost:8080/"
        },
        "id": "iPIx-tbG7L5Q",
        "outputId": "b30fedfe-c7c6-4f26-9d0c-1a7f44e1d9dd"
      },
      "execution_count": null,
      "outputs": [
        {
          "output_type": "stream",
          "name": "stdout",
          "text": [
            "2D NumPy Array:\n",
            " [[1 2 3]\n",
            " [4 5 6]]\n",
            "Element at position (1, 2): 6\n",
            "Sum of all elements: 21\n",
            "<class 'numpy.ndarray'>\n"
          ]
        }
      ]
    },
    {
      "cell_type": "code",
      "source": [
        "#3D array\n",
        "Array_3 = np.array([[[1, 2], [3, 4]], [[5, 6], [7, 8]], [[4,5],[3,2]]])\n",
        "print(Array_3)\n",
        "print(\"Element at position (1, 1, 0):\", Array_3[1, 1, 0])\n",
        "print(\"Sum of elements in 3D array:\", np.sum(Array_3))\n",
        "print(\"Shape of 3D array:\", Array_3.shape)\n",
        "print(\"Type of 3D Array:\", type(Array_3))"
      ],
      "metadata": {
        "colab": {
          "base_uri": "https://localhost:8080/"
        },
        "id": "3DW0fmBW-N0B",
        "outputId": "a9db9e6f-24df-40a9-fbc4-c1a205d9fe57"
      },
      "execution_count": null,
      "outputs": [
        {
          "output_type": "stream",
          "name": "stdout",
          "text": [
            "[[[1 2]\n",
            "  [3 4]]\n",
            "\n",
            " [[5 6]\n",
            "  [7 8]]\n",
            "\n",
            " [[4 5]\n",
            "  [3 2]]]\n",
            "Element at position (1, 1, 0): 7\n",
            "Sum of elements in 3D array: 50\n",
            "Shape of 3D array: (3, 2, 2)\n",
            "Type of 3D Array: <class 'numpy.ndarray'>\n"
          ]
        }
      ]
    },
    {
      "cell_type": "code",
      "source": [
        "#4D array\n",
        "import numpy as np\n",
        "Array_4 = np.array([[[[4, 6, 5], [3, 4, 5]], [[5, 6, 8], [7, 8, 10]]],\n",
        "                     [[[9, 10, 15], [11, 12, 14]], [[13, 14, 18], [15, 16, 19]]]])\n",
        "print(\"4D Array:\\n\", Array_4)\n",
        "print(\"Type of 4D Array:\", type(Array_4))\n",
        "print(\"Sum of elements in 4D array:\", np.sum(Array_4))\n",
        "print(\"Shape of 4D array:\", Array_4.shape)"
      ],
      "metadata": {
        "colab": {
          "base_uri": "https://localhost:8080/"
        },
        "id": "30APaEwQA_xD",
        "outputId": "9ae645f7-6f5a-42f6-b33c-d16ec6024c02"
      },
      "execution_count": 3,
      "outputs": [
        {
          "output_type": "stream",
          "name": "stdout",
          "text": [
            "4D Array:\n",
            " [[[[ 4  6  5]\n",
            "   [ 3  4  5]]\n",
            "\n",
            "  [[ 5  6  8]\n",
            "   [ 7  8 10]]]\n",
            "\n",
            "\n",
            " [[[ 9 10 15]\n",
            "   [11 12 14]]\n",
            "\n",
            "  [[13 14 18]\n",
            "   [15 16 19]]]]\n",
            "Type of 4D Array: <class 'numpy.ndarray'>\n",
            "Sum of elements in 4D array: 237\n",
            "Shape of 4D array: (2, 2, 2, 3)\n"
          ]
        }
      ]
    },
    {
      "cell_type": "code",
      "source": [
        "Array_a = np.array([9, 8, 7])\n",
        "Array_b = np.array([10, 9, 5])\n",
        "array_div = Array_b / Array_a\n",
        "print(\"Division of Two Arrays:\", array_div)\n",
        "array_add = Array_a + Array_b\n",
        "print(\"Addition of Two Arrays:\", array_add)\n",
        "array_mul = Array_a * Array_b\n",
        "print(\"Multiplication of Two Arrays:\", array_mul)\n",
        "array_pow = np.power(Array_a, 2)\n",
        "print(\"Element-wise Power (array_a^2):\", array_pow)\n"
      ],
      "metadata": {
        "colab": {
          "base_uri": "https://localhost:8080/"
        },
        "id": "MzXG1zbhWacP",
        "outputId": "a92894db-8e39-469f-c0a3-a13203b51bff"
      },
      "execution_count": 14,
      "outputs": [
        {
          "output_type": "stream",
          "name": "stdout",
          "text": [
            "Division of Two Arrays: [1.11111111 1.125      0.71428571]\n",
            "Addition of Two Arrays: [19 17 12]\n",
            "Multiplication of Two Arrays: [90 72 35]\n",
            "Element-wise Power (array_a^2): [81 64 49]\n"
          ]
        }
      ]
    },
    {
      "cell_type": "markdown",
      "source": [
        "implementing of sin,log"
      ],
      "metadata": {
        "id": "VzUyveSJXurc"
      }
    },
    {
      "cell_type": "code",
      "source": [
        "sin_values = np.sin(Array_a)\n",
        "print(\"\\nSin of Array_1:\", sin_values)\n",
        "log_values = np.log(Array_b)\n",
        "print(\"Log of Array_2:\", log_values)\n",
        "log2_values = np.log2(Array_b)\n",
        "print(\"Log base-2 of Array_2:\", log2_values)\n",
        "exp_values = np.exp(Array_a)\n",
        "print(\"Exponential of Array_1:\", exp_values)"
      ],
      "metadata": {
        "colab": {
          "base_uri": "https://localhost:8080/"
        },
        "id": "_bMjiQLgXygb",
        "outputId": "7581d753-d579-4abc-ea74-037f74f492e9"
      },
      "execution_count": 13,
      "outputs": [
        {
          "output_type": "stream",
          "name": "stdout",
          "text": [
            "\n",
            "Sin of Array_1: [0.41211849 0.98935825 0.6569866 ]\n",
            "Log of Array_2: [2.30258509 2.19722458 1.60943791]\n",
            "Log base-2 of Array_2: [3.32192809 3.169925   2.32192809]\n",
            "Exponential of Array_1: [8103.08392758 2980.95798704 1096.63315843]\n"
          ]
        }
      ]
    }
  ]
}