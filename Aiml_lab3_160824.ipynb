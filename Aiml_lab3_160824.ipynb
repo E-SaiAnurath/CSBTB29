{
  "nbformat": 4,
  "nbformat_minor": 0,
  "metadata": {
    "colab": {
      "provenance": [],
      "authorship_tag": "ABX9TyNzFj1J3WpWSiXtM9Vjcc1m",
      "include_colab_link": true
    },
    "kernelspec": {
      "name": "python3",
      "display_name": "Python 3"
    },
    "language_info": {
      "name": "python"
    }
  },
  "cells": [
    {
      "cell_type": "markdown",
      "metadata": {
        "id": "view-in-github",
        "colab_type": "text"
      },
      "source": [
        "<a href=\"https://colab.research.google.com/github/E-SaiAnurath/CSBTB29/blob/main/Aiml_lab3_160824.ipynb\" target=\"_parent\"><img src=\"https://colab.research.google.com/assets/colab-badge.svg\" alt=\"Open In Colab\"/></a>"
      ]
    },
    {
      "cell_type": "code",
      "execution_count": 8,
      "metadata": {
        "colab": {
          "base_uri": "https://localhost:8080/"
        },
        "id": "Jq4Y8U-K3MEE",
        "outputId": "93a89ef8-2c4f-4aa4-c664-70b18780ac11"
      },
      "outputs": [
        {
          "output_type": "stream",
          "name": "stdout",
          "text": [
            "    SID   Student Name  Course  Contact number  Admit Year      Roll No  Year  \\\n",
            "0     1   A.Ram Charan  B.Tech      8006991370        2023   2303A51091     2   \n",
            "1     2    P.Sushwanth  B.Tech      9548623578        2023   2303A51567     2   \n",
            "2     3        L.Vivek  B.Tech      7845963244        2023   2303A51498     2   \n",
            "3     4        R.Shiva  B.Tech      8996547236        2023   2303A54897     2   \n",
            "4     5  S.pranava Sai  B.Tech      7859632458        2023   2303A51988     2   \n",
            "5     6       P.Lalith  B.Tech      8569742136        2023   2303A54917     2   \n",
            "6     7          D.SAI  B.Tech      7895641235        2023   2303A54925     2   \n",
            "7     8   H.Hanumanthu  B.Tech      5478963214        2023   2303A54936     2   \n",
            "8     9      K.shankar  B.Tech      8885596326        2023   2303A54948     2   \n",
            "9    10        p.ravan  B.Tech      7458963214        2023   2303A54949     2   \n",
            "10   11       g.mahesh  B.Tech      9988774455        2023   2303A54950     2   \n",
            "11   12         c.rupa    P.hd      7845936245        2023   2303A54951     2   \n",
            "12   13     v.hruthika    P.hd      8745963245        2023   2303A54952     2   \n",
            "13   14      s.spurthi    P.hd     45896321548        2023   2303A54953     2   \n",
            "14   15        A.Rohit  M.Tech     75896324589        2023   2303A54954     2   \n",
            "15   16     A.Ramaraju  M.Tech      8965147236        2023   2303A54955     2   \n",
            "16   17     H.Praneeth  M.Tech     48593265748        2023  2303A515478     2   \n",
            "17   18  E.Sai Anurath  M.Tech      8885299732        2023   2303A51560     2   \n",
            "18   19       f.farhan  M.Tech      7859463158        2023  2303A515480     2   \n",
            "19   20      h.Snuhith  M.Tech      8745963258        2023  2303A515481     2   \n",
            "\n",
            "    Semister Branch  Unnamed: 9   Y  \n",
            "0          1    CSE         NaN NaN  \n",
            "1          1    CSE         NaN NaN  \n",
            "2          1    CSE         NaN NaN  \n",
            "3          1    CSE         NaN NaN  \n",
            "4          1    CSE         NaN NaN  \n",
            "5          1    CSE         NaN NaN  \n",
            "6          1    CSE         NaN NaN  \n",
            "7          1    CSE         NaN NaN  \n",
            "8          1    CSE         NaN NaN  \n",
            "9          1    CSE         NaN NaN  \n",
            "10         1    CSE         NaN NaN  \n",
            "11         1    ECE         NaN NaN  \n",
            "12         1    ECE         NaN NaN  \n",
            "13         1    ECE         NaN NaN  \n",
            "14         1   Aiml         NaN NaN  \n",
            "15         1   Aiml         NaN NaN  \n",
            "16         1   Aiml         NaN NaN  \n",
            "17         1   Aiml         NaN NaN  \n",
            "18         1   Aiml         NaN NaN  \n",
            "19         1   Aiml         NaN NaN  \n"
          ]
        }
      ],
      "source": [
        "import pandas as pd\n",
        "data = pd.read_excel(\"/content/Excel_Aiml_lab_160824.xlsx\")\n",
        "print(data)"
      ]
    },
    {
      "cell_type": "code",
      "source": [
        "import pandas as pd\n",
        "data = pd.read_csv(\"/content/Excel_Aiml_lab_160824.csv\")\n",
        "print(data)"
      ],
      "metadata": {
        "colab": {
          "base_uri": "https://localhost:8080/"
        },
        "id": "-1cwl-9m3mkC",
        "outputId": "dfa174d1-90a5-445f-936d-d28d07df3d87"
      },
      "execution_count": 9,
      "outputs": [
        {
          "output_type": "stream",
          "name": "stdout",
          "text": [
            "    SID   Student Name  Course  Contact number  Admit Year      Roll No  Year  \\\n",
            "0     1   A.Ram Charan  B.Tech      8006991370        2023   2303A51091     2   \n",
            "1     2    P.Sushwanth  B.Tech      9548623578        2023   2303A51567     2   \n",
            "2     3        L.Vivek  B.Tech      7845963244        2023   2303A51498     2   \n",
            "3     4        R.Shiva  B.Tech      8996547236        2023   2303A54897     2   \n",
            "4     5  S.pranava Sai  B.Tech      7859632458        2023   2303A51988     2   \n",
            "5     6       P.Lalith  B.Tech      8569742136        2023   2303A54917     2   \n",
            "6     7          D.SAI  B.Tech      7895641235        2023   2303A54925     2   \n",
            "7     8   H.Hanumanthu  B.Tech      5478963214        2023   2303A54936     2   \n",
            "8     9      K.shankar  B.Tech      8885596326        2023   2303A54948     2   \n",
            "9    10        p.ravan  B.Tech      7458963214        2023   2303A54949     2   \n",
            "10   11       g.mahesh  B.Tech      9988774455        2023   2303A54950     2   \n",
            "11   12         c.rupa    P.hd      7845936245        2023   2303A54951     2   \n",
            "12   13     v.hruthika    P.hd      8745963245        2023   2303A54952     2   \n",
            "13   14      s.spurthi    P.hd     45896321548        2023   2303A54953     2   \n",
            "14   15        A.Rohit  M.Tech     75896324589        2023   2303A54954     2   \n",
            "15   16     A.Ramaraju  M.Tech      8965147236        2023   2303A54955     2   \n",
            "16   17     H.Praneeth  M.Tech     48593265748        2023  2303A515478     2   \n",
            "17   18  E.Sai Anurath  M.Tech      8885299732        2023   2303A51560     2   \n",
            "18   19       f.farhan  M.Tech      7859463158        2023  2303A515480     2   \n",
            "19   20      h.Snuhith  M.Tech      8745963258        2023  2303A515481     2   \n",
            "\n",
            "    Semister Branch  Unnamed: 9   Y  \n",
            "0          1    CSE         NaN NaN  \n",
            "1          1    CSE         NaN NaN  \n",
            "2          1    CSE         NaN NaN  \n",
            "3          1    CSE         NaN NaN  \n",
            "4          1    CSE         NaN NaN  \n",
            "5          1    CSE         NaN NaN  \n",
            "6          1    CSE         NaN NaN  \n",
            "7          1    CSE         NaN NaN  \n",
            "8          1    CSE         NaN NaN  \n",
            "9          1    CSE         NaN NaN  \n",
            "10         1    CSE         NaN NaN  \n",
            "11         1    ECE         NaN NaN  \n",
            "12         1    ECE         NaN NaN  \n",
            "13         1    ECE         NaN NaN  \n",
            "14         1   Aiml         NaN NaN  \n",
            "15         1   Aiml         NaN NaN  \n",
            "16         1   Aiml         NaN NaN  \n",
            "17         1   Aiml         NaN NaN  \n",
            "18         1   Aiml         NaN NaN  \n",
            "19         1   Aiml         NaN NaN  \n"
          ]
        }
      ]
    },
    {
      "cell_type": "code",
      "source": [
        "import pandas as pd\n",
        "data = pd.read_csv(\"/content/heart.csv\")\n",
        "print(data)"
      ],
      "metadata": {
        "colab": {
          "base_uri": "https://localhost:8080/"
        },
        "id": "u6XyDVjE6eIC",
        "outputId": "7d67a95a-a2eb-4f06-99db-a1ecaf5956b2"
      },
      "execution_count": 10,
      "outputs": [
        {
          "output_type": "stream",
          "name": "stdout",
          "text": [
            "      age  sex  cp  trestbps  chol  fbs  restecg  thalach  exang  oldpeak  \\\n",
            "0      52    1   0       125   212    0        1      168      0      1.0   \n",
            "1      53    1   0       140   203    1        0      155      1      3.1   \n",
            "2      70    1   0       145   174    0        1      125      1      2.6   \n",
            "3      61    1   0       148   203    0        1      161      0      0.0   \n",
            "4      62    0   0       138   294    1        1      106      0      1.9   \n",
            "...   ...  ...  ..       ...   ...  ...      ...      ...    ...      ...   \n",
            "1020   59    1   1       140   221    0        1      164      1      0.0   \n",
            "1021   60    1   0       125   258    0        0      141      1      2.8   \n",
            "1022   47    1   0       110   275    0        0      118      1      1.0   \n",
            "1023   50    0   0       110   254    0        0      159      0      0.0   \n",
            "1024   54    1   0       120   188    0        1      113      0      1.4   \n",
            "\n",
            "      slope  ca  thal  target  \n",
            "0         2   2     3       0  \n",
            "1         0   0     3       0  \n",
            "2         0   0     3       0  \n",
            "3         2   1     3       0  \n",
            "4         1   3     2       0  \n",
            "...     ...  ..   ...     ...  \n",
            "1020      2   0     2       1  \n",
            "1021      1   1     3       0  \n",
            "1022      1   1     2       0  \n",
            "1023      2   0     2       1  \n",
            "1024      1   1     3       0  \n",
            "\n",
            "[1025 rows x 14 columns]\n"
          ]
        }
      ]
    },
    {
      "cell_type": "code",
      "source": [
        "import pandas as pd\n",
        "data = pd.read_table(\"/content/Aiml_lab_160824.txt\")\n",
        "print(data)"
      ],
      "metadata": {
        "colab": {
          "base_uri": "https://localhost:8080/"
        },
        "id": "luIbVkJh99xf",
        "outputId": "1074b12f-ae1a-4879-8784-a472951388ba"
      },
      "execution_count": 12,
      "outputs": [
        {
          "output_type": "stream",
          "name": "stdout",
          "text": [
            "    SID   Student Name  Course  Contact number  Admit Year      Roll No  Year  \\\n",
            "0     1   A.Ram Charan  B.Tech      8006991370        2023   2303A51091     2   \n",
            "1     2    P.Sushwanth  B.Tech      9548623578        2023   2303A51567     2   \n",
            "2     3        L.Vivek  B.Tech      7845963244        2023   2303A51498     2   \n",
            "3     4        R.Shiva  B.Tech      8996547236        2023   2303A54897     2   \n",
            "4     5  S.pranava Sai  B.Tech      7859632458        2023   2303A51988     2   \n",
            "5     6       P.Lalith  B.Tech      8569742136        2023   2303A54917     2   \n",
            "6     7          D.SAI  B.Tech      7895641235        2023   2303A54925     2   \n",
            "7     8   H.Hanumanthu  B.Tech      5478963214        2023   2303A54936     2   \n",
            "8     9      K.shankar  B.Tech      8885596326        2023   2303A54948     2   \n",
            "9    10        p.ravan  B.Tech      7458963214        2023   2303A54949     2   \n",
            "10   11       g.mahesh  B.Tech      9988774455        2023   2303A54950     2   \n",
            "11   12         c.rupa    P.hd      7845936245        2023   2303A54951     2   \n",
            "12   13     v.hruthika    P.hd      8745963245        2023   2303A54952     2   \n",
            "13   14      s.spurthi    P.hd     45896321548        2023   2303A54953     2   \n",
            "14   15        A.Rohit  M.Tech     75896324589        2023   2303A54954     2   \n",
            "15   16     A.Ramaraju  M.Tech      8965147236        2023   2303A54955     2   \n",
            "16   17     H.Praneeth  M.Tech     48593265748        2023  2303A515478     2   \n",
            "17   18  E.Sai Anurath  M.Tech      8885299732        2023   2303A51560     2   \n",
            "18   19       f.farhan  M.Tech      7859463158        2023  2303A515480     2   \n",
            "19   20      h.Snuhith  M.Tech      8745963258        2023  2303A515481     2   \n",
            "\n",
            "    Semister Branch  \n",
            "0          1    CSE  \n",
            "1          1    CSE  \n",
            "2          1    CSE  \n",
            "3          1    CSE  \n",
            "4          1    CSE  \n",
            "5          1    CSE  \n",
            "6          1    CSE  \n",
            "7          1    CSE  \n",
            "8          1    CSE  \n",
            "9          1    CSE  \n",
            "10         1    CSE  \n",
            "11         1    ECE  \n",
            "12         1    ECE  \n",
            "13         1    ECE  \n",
            "14         1   Aiml  \n",
            "15         1   Aiml  \n",
            "16         1   Aiml  \n",
            "17         1   Aiml  \n",
            "18         1   Aiml  \n",
            "19         1   Aiml  \n"
          ]
        }
      ]
    },
    {
      "cell_type": "code",
      "source": [
        "import pandas as pd\n",
        "data = pd.read_csv(\"/content/games_dataset.csv\")\n",
        "print(data)"
      ],
      "metadata": {
        "colab": {
          "base_uri": "https://localhost:8080/"
        },
        "id": "ZuF0kXZA-dfo",
        "outputId": "c89768ae-024f-45c5-e434-d90572135ab9"
      },
      "execution_count": 13,
      "outputs": [
        {
          "output_type": "stream",
          "name": "stdout",
          "text": [
            "                                    Game Name       Genre         Platform  \\\n",
            "0                   Sekiro: Shadows Die Twice      Sports  Nintendo Switch   \n",
            "1                                     Control      Puzzle  Nintendo Switch   \n",
            "2                                    Among Us    Strategy  Nintendo Switch   \n",
            "3                Call of Duty: Modern Warfare     Stealth      PlayStation   \n",
            "4                           League of Legends  Simulation               PC   \n",
            "...                                       ...         ...              ...   \n",
            "4995  The Legend of Zelda: Breath of the Wild      Sports               PC   \n",
            "4996                Assassin's Creed Valhalla     Stealth           Mobile   \n",
            "4997             Fall Guys: Ultimate Knockout      Sports           Mobile   \n",
            "4998                            Borderlands 3  Platformer             Xbox   \n",
            "4999         Counter-Strike: Global Offensive      Action      PlayStation   \n",
            "\n",
            "      Release Year  User Rating  \n",
            "0             2014     9.654719  \n",
            "1             2000     3.457386  \n",
            "2             2007     5.367622  \n",
            "3             2005     1.240325  \n",
            "4             2021     3.535476  \n",
            "...            ...          ...  \n",
            "4995          2013     6.352838  \n",
            "4996          2020     1.852730  \n",
            "4997          2021     5.268067  \n",
            "4998          2018     4.558510  \n",
            "4999          2022     3.443231  \n",
            "\n",
            "[5000 rows x 5 columns]\n"
          ]
        }
      ]
    }
  ]
}